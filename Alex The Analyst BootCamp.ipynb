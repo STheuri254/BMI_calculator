{
 "cells": [
  {
   "cell_type": "markdown",
   "id": "59b9489d",
   "metadata": {},
   "source": [
    "# BMI CALCULATOR\n"
   ]
  },
  {
   "cell_type": "code",
   "execution_count": 21,
   "id": "40e33fd8",
   "metadata": {},
   "outputs": [
    {
     "name": "stdout",
     "output_type": "stream",
     "text": [
      "Enter your name: Nancy\n",
      "Enter your weight in pounds: 900\n",
      "Enter your height in inches:69\n",
      "Nancy, you are morbidly obese\n"
     ]
    }
   ],
   "source": [
    "name = input(\"Enter your name: \")\n",
    "\n",
    "weight = input(\"Enter your weight in pounds: \")\n",
    "height = input(\"Enter your height in inches:\")\n",
    "\n",
    "\n",
    "\n",
    "weight = int(weight)\n",
    "height = int(height)\n",
    "\n",
    "\n",
    "\n",
    "\n",
    "\n",
    "BMI = (weight * 703) / (height * height)\n",
    "BMI\n",
    "\n",
    "\n",
    "\n",
    "\n",
    "\n",
    "\n",
    "\n",
    "\n",
    "if BMI > 0:\n",
    "    if (BMI<18.5):\n",
    "        PRINT(name +\", you are underweight.\")\n",
    "    elif(BMI<29.9):\n",
    "            print(name +\", you are over weight\")\n",
    "    elif(BMI<34.9):\n",
    "            print(name +\", you are obese\")\n",
    "    elif(BMI<39.9):\n",
    "            print(name +\", you are severely obese\")\n",
    "    else:\n",
    "        print(name +\", you are morbidly obese\")\n",
    "else:\n",
    "    print(name + \"Enter valid input\")"
   ]
  },
  {
   "cell_type": "code",
   "execution_count": 20,
   "id": "3f60c2c6",
   "metadata": {},
   "outputs": [
    {
     "name": "stdout",
     "output_type": "stream",
     "text": [
      "Nancy Wanjiru, you are over weight\n"
     ]
    }
   ],
   "source": [
    "if BMI > 0:\n",
    "    if (BMI<18.5):\n",
    "        PRINT(name +\", you are underweight.\")\n",
    "    elif(BMI<29.9):\n",
    "            print(name +\", you are over weight\")\n",
    "    elif(BMI<34.9):\n",
    "            print(name +\", you are obese\")\n",
    "    elif(BMI<39.9):\n",
    "            print(name +\", you are severely obese\")\n",
    "    else:\n",
    "        print(name +\", you are morbidly obese\")\n",
    "else:\n",
    "    print(name + \"Enter valid input\")"
   ]
  },
  {
   "cell_type": "code",
   "execution_count": null,
   "id": "3de44514",
   "metadata": {},
   "outputs": [],
   "source": []
  }
 ],
 "metadata": {
  "kernelspec": {
   "display_name": "Python 3 (ipykernel)",
   "language": "python",
   "name": "python3"
  },
  "language_info": {
   "codemirror_mode": {
    "name": "ipython",
    "version": 3
   },
   "file_extension": ".py",
   "mimetype": "text/x-python",
   "name": "python",
   "nbconvert_exporter": "python",
   "pygments_lexer": "ipython3",
   "version": "3.11.5"
  }
 },
 "nbformat": 4,
 "nbformat_minor": 5
}
